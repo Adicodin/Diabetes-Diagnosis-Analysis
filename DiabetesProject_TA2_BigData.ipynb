{
  "nbformat": 4,
  "nbformat_minor": 0,
  "metadata": {
    "colab": {
      "provenance": []
    },
    "kernelspec": {
      "name": "python3",
      "display_name": "Python 3"
    },
    "language_info": {
      "name": "python"
    }
  },
  "cells": [
    {
      "cell_type": "code",
      "execution_count": null,
      "metadata": {
        "id": "fQwH9NVbGQuV",
        "colab": {
          "base_uri": "https://localhost:8080/",
          "height": 206
        },
        "outputId": "9693c524-3771-4065-a121-0f9d6e458d55"
      },
      "outputs": [
        {
          "output_type": "execute_result",
          "data": {
            "text/plain": [
              "   Pregnancies  Glucose  BloodPressure  Triceps  Insulin   BMI  \\\n",
              "0            6      148             72       35        0  33.6   \n",
              "1            1       85             66       29        0  26.6   \n",
              "2            8      183             64        0        0  23.3   \n",
              "3            1       89             66       23       94  28.1   \n",
              "4            0      137             40       35      168  43.1   \n",
              "\n",
              "   DiabetesPedigreeFunction  Age  Outcome  \n",
              "0                     0.627   50        1  \n",
              "1                     0.351   31        0  \n",
              "2                     0.672   32        1  \n",
              "3                     0.167   21        0  \n",
              "4                     2.288   33        1  "
            ],
            "text/html": [
              "\n",
              "  <div id=\"df-88e7169a-78ee-41b0-8767-cb768346af66\" class=\"colab-df-container\">\n",
              "    <div>\n",
              "<style scoped>\n",
              "    .dataframe tbody tr th:only-of-type {\n",
              "        vertical-align: middle;\n",
              "    }\n",
              "\n",
              "    .dataframe tbody tr th {\n",
              "        vertical-align: top;\n",
              "    }\n",
              "\n",
              "    .dataframe thead th {\n",
              "        text-align: right;\n",
              "    }\n",
              "</style>\n",
              "<table border=\"1\" class=\"dataframe\">\n",
              "  <thead>\n",
              "    <tr style=\"text-align: right;\">\n",
              "      <th></th>\n",
              "      <th>Pregnancies</th>\n",
              "      <th>Glucose</th>\n",
              "      <th>BloodPressure</th>\n",
              "      <th>Triceps</th>\n",
              "      <th>Insulin</th>\n",
              "      <th>BMI</th>\n",
              "      <th>DiabetesPedigreeFunction</th>\n",
              "      <th>Age</th>\n",
              "      <th>Outcome</th>\n",
              "    </tr>\n",
              "  </thead>\n",
              "  <tbody>\n",
              "    <tr>\n",
              "      <th>0</th>\n",
              "      <td>6</td>\n",
              "      <td>148</td>\n",
              "      <td>72</td>\n",
              "      <td>35</td>\n",
              "      <td>0</td>\n",
              "      <td>33.6</td>\n",
              "      <td>0.627</td>\n",
              "      <td>50</td>\n",
              "      <td>1</td>\n",
              "    </tr>\n",
              "    <tr>\n",
              "      <th>1</th>\n",
              "      <td>1</td>\n",
              "      <td>85</td>\n",
              "      <td>66</td>\n",
              "      <td>29</td>\n",
              "      <td>0</td>\n",
              "      <td>26.6</td>\n",
              "      <td>0.351</td>\n",
              "      <td>31</td>\n",
              "      <td>0</td>\n",
              "    </tr>\n",
              "    <tr>\n",
              "      <th>2</th>\n",
              "      <td>8</td>\n",
              "      <td>183</td>\n",
              "      <td>64</td>\n",
              "      <td>0</td>\n",
              "      <td>0</td>\n",
              "      <td>23.3</td>\n",
              "      <td>0.672</td>\n",
              "      <td>32</td>\n",
              "      <td>1</td>\n",
              "    </tr>\n",
              "    <tr>\n",
              "      <th>3</th>\n",
              "      <td>1</td>\n",
              "      <td>89</td>\n",
              "      <td>66</td>\n",
              "      <td>23</td>\n",
              "      <td>94</td>\n",
              "      <td>28.1</td>\n",
              "      <td>0.167</td>\n",
              "      <td>21</td>\n",
              "      <td>0</td>\n",
              "    </tr>\n",
              "    <tr>\n",
              "      <th>4</th>\n",
              "      <td>0</td>\n",
              "      <td>137</td>\n",
              "      <td>40</td>\n",
              "      <td>35</td>\n",
              "      <td>168</td>\n",
              "      <td>43.1</td>\n",
              "      <td>2.288</td>\n",
              "      <td>33</td>\n",
              "      <td>1</td>\n",
              "    </tr>\n",
              "  </tbody>\n",
              "</table>\n",
              "</div>\n",
              "    <div class=\"colab-df-buttons\">\n",
              "\n",
              "  <div class=\"colab-df-container\">\n",
              "    <button class=\"colab-df-convert\" onclick=\"convertToInteractive('df-88e7169a-78ee-41b0-8767-cb768346af66')\"\n",
              "            title=\"Convert this dataframe to an interactive table.\"\n",
              "            style=\"display:none;\">\n",
              "\n",
              "  <svg xmlns=\"http://www.w3.org/2000/svg\" height=\"24px\" viewBox=\"0 -960 960 960\">\n",
              "    <path d=\"M120-120v-720h720v720H120Zm60-500h600v-160H180v160Zm220 220h160v-160H400v160Zm0 220h160v-160H400v160ZM180-400h160v-160H180v160Zm440 0h160v-160H620v160ZM180-180h160v-160H180v160Zm440 0h160v-160H620v160Z\"/>\n",
              "  </svg>\n",
              "    </button>\n",
              "\n",
              "  <style>\n",
              "    .colab-df-container {\n",
              "      display:flex;\n",
              "      gap: 12px;\n",
              "    }\n",
              "\n",
              "    .colab-df-convert {\n",
              "      background-color: #E8F0FE;\n",
              "      border: none;\n",
              "      border-radius: 50%;\n",
              "      cursor: pointer;\n",
              "      display: none;\n",
              "      fill: #1967D2;\n",
              "      height: 32px;\n",
              "      padding: 0 0 0 0;\n",
              "      width: 32px;\n",
              "    }\n",
              "\n",
              "    .colab-df-convert:hover {\n",
              "      background-color: #E2EBFA;\n",
              "      box-shadow: 0px 1px 2px rgba(60, 64, 67, 0.3), 0px 1px 3px 1px rgba(60, 64, 67, 0.15);\n",
              "      fill: #174EA6;\n",
              "    }\n",
              "\n",
              "    .colab-df-buttons div {\n",
              "      margin-bottom: 4px;\n",
              "    }\n",
              "\n",
              "    [theme=dark] .colab-df-convert {\n",
              "      background-color: #3B4455;\n",
              "      fill: #D2E3FC;\n",
              "    }\n",
              "\n",
              "    [theme=dark] .colab-df-convert:hover {\n",
              "      background-color: #434B5C;\n",
              "      box-shadow: 0px 1px 3px 1px rgba(0, 0, 0, 0.15);\n",
              "      filter: drop-shadow(0px 1px 2px rgba(0, 0, 0, 0.3));\n",
              "      fill: #FFFFFF;\n",
              "    }\n",
              "  </style>\n",
              "\n",
              "    <script>\n",
              "      const buttonEl =\n",
              "        document.querySelector('#df-88e7169a-78ee-41b0-8767-cb768346af66 button.colab-df-convert');\n",
              "      buttonEl.style.display =\n",
              "        google.colab.kernel.accessAllowed ? 'block' : 'none';\n",
              "\n",
              "      async function convertToInteractive(key) {\n",
              "        const element = document.querySelector('#df-88e7169a-78ee-41b0-8767-cb768346af66');\n",
              "        const dataTable =\n",
              "          await google.colab.kernel.invokeFunction('convertToInteractive',\n",
              "                                                    [key], {});\n",
              "        if (!dataTable) return;\n",
              "\n",
              "        const docLinkHtml = 'Like what you see? Visit the ' +\n",
              "          '<a target=\"_blank\" href=https://colab.research.google.com/notebooks/data_table.ipynb>data table notebook</a>'\n",
              "          + ' to learn more about interactive tables.';\n",
              "        element.innerHTML = '';\n",
              "        dataTable['output_type'] = 'display_data';\n",
              "        await google.colab.output.renderOutput(dataTable, element);\n",
              "        const docLink = document.createElement('div');\n",
              "        docLink.innerHTML = docLinkHtml;\n",
              "        element.appendChild(docLink);\n",
              "      }\n",
              "    </script>\n",
              "  </div>\n",
              "\n",
              "\n",
              "<div id=\"df-2415f0b6-42bc-48db-8f37-4cecb7415eb9\">\n",
              "  <button class=\"colab-df-quickchart\" onclick=\"quickchart('df-2415f0b6-42bc-48db-8f37-4cecb7415eb9')\"\n",
              "            title=\"Suggest charts\"\n",
              "            style=\"display:none;\">\n",
              "\n",
              "<svg xmlns=\"http://www.w3.org/2000/svg\" height=\"24px\"viewBox=\"0 0 24 24\"\n",
              "     width=\"24px\">\n",
              "    <g>\n",
              "        <path d=\"M19 3H5c-1.1 0-2 .9-2 2v14c0 1.1.9 2 2 2h14c1.1 0 2-.9 2-2V5c0-1.1-.9-2-2-2zM9 17H7v-7h2v7zm4 0h-2V7h2v10zm4 0h-2v-4h2v4z\"/>\n",
              "    </g>\n",
              "</svg>\n",
              "  </button>\n",
              "\n",
              "<style>\n",
              "  .colab-df-quickchart {\n",
              "      --bg-color: #E8F0FE;\n",
              "      --fill-color: #1967D2;\n",
              "      --hover-bg-color: #E2EBFA;\n",
              "      --hover-fill-color: #174EA6;\n",
              "      --disabled-fill-color: #AAA;\n",
              "      --disabled-bg-color: #DDD;\n",
              "  }\n",
              "\n",
              "  [theme=dark] .colab-df-quickchart {\n",
              "      --bg-color: #3B4455;\n",
              "      --fill-color: #D2E3FC;\n",
              "      --hover-bg-color: #434B5C;\n",
              "      --hover-fill-color: #FFFFFF;\n",
              "      --disabled-bg-color: #3B4455;\n",
              "      --disabled-fill-color: #666;\n",
              "  }\n",
              "\n",
              "  .colab-df-quickchart {\n",
              "    background-color: var(--bg-color);\n",
              "    border: none;\n",
              "    border-radius: 50%;\n",
              "    cursor: pointer;\n",
              "    display: none;\n",
              "    fill: var(--fill-color);\n",
              "    height: 32px;\n",
              "    padding: 0;\n",
              "    width: 32px;\n",
              "  }\n",
              "\n",
              "  .colab-df-quickchart:hover {\n",
              "    background-color: var(--hover-bg-color);\n",
              "    box-shadow: 0 1px 2px rgba(60, 64, 67, 0.3), 0 1px 3px 1px rgba(60, 64, 67, 0.15);\n",
              "    fill: var(--button-hover-fill-color);\n",
              "  }\n",
              "\n",
              "  .colab-df-quickchart-complete:disabled,\n",
              "  .colab-df-quickchart-complete:disabled:hover {\n",
              "    background-color: var(--disabled-bg-color);\n",
              "    fill: var(--disabled-fill-color);\n",
              "    box-shadow: none;\n",
              "  }\n",
              "\n",
              "  .colab-df-spinner {\n",
              "    border: 2px solid var(--fill-color);\n",
              "    border-color: transparent;\n",
              "    border-bottom-color: var(--fill-color);\n",
              "    animation:\n",
              "      spin 1s steps(1) infinite;\n",
              "  }\n",
              "\n",
              "  @keyframes spin {\n",
              "    0% {\n",
              "      border-color: transparent;\n",
              "      border-bottom-color: var(--fill-color);\n",
              "      border-left-color: var(--fill-color);\n",
              "    }\n",
              "    20% {\n",
              "      border-color: transparent;\n",
              "      border-left-color: var(--fill-color);\n",
              "      border-top-color: var(--fill-color);\n",
              "    }\n",
              "    30% {\n",
              "      border-color: transparent;\n",
              "      border-left-color: var(--fill-color);\n",
              "      border-top-color: var(--fill-color);\n",
              "      border-right-color: var(--fill-color);\n",
              "    }\n",
              "    40% {\n",
              "      border-color: transparent;\n",
              "      border-right-color: var(--fill-color);\n",
              "      border-top-color: var(--fill-color);\n",
              "    }\n",
              "    60% {\n",
              "      border-color: transparent;\n",
              "      border-right-color: var(--fill-color);\n",
              "    }\n",
              "    80% {\n",
              "      border-color: transparent;\n",
              "      border-right-color: var(--fill-color);\n",
              "      border-bottom-color: var(--fill-color);\n",
              "    }\n",
              "    90% {\n",
              "      border-color: transparent;\n",
              "      border-bottom-color: var(--fill-color);\n",
              "    }\n",
              "  }\n",
              "</style>\n",
              "\n",
              "  <script>\n",
              "    async function quickchart(key) {\n",
              "      const quickchartButtonEl =\n",
              "        document.querySelector('#' + key + ' button');\n",
              "      quickchartButtonEl.disabled = true;  // To prevent multiple clicks.\n",
              "      quickchartButtonEl.classList.add('colab-df-spinner');\n",
              "      try {\n",
              "        const charts = await google.colab.kernel.invokeFunction(\n",
              "            'suggestCharts', [key], {});\n",
              "      } catch (error) {\n",
              "        console.error('Error during call to suggestCharts:', error);\n",
              "      }\n",
              "      quickchartButtonEl.classList.remove('colab-df-spinner');\n",
              "      quickchartButtonEl.classList.add('colab-df-quickchart-complete');\n",
              "    }\n",
              "    (() => {\n",
              "      let quickchartButtonEl =\n",
              "        document.querySelector('#df-2415f0b6-42bc-48db-8f37-4cecb7415eb9 button');\n",
              "      quickchartButtonEl.style.display =\n",
              "        google.colab.kernel.accessAllowed ? 'block' : 'none';\n",
              "    })();\n",
              "  </script>\n",
              "</div>\n",
              "    </div>\n",
              "  </div>\n"
            ]
          },
          "metadata": {},
          "execution_count": 2
        }
      ],
      "source": [
        "import pandas as pd\n",
        "import matplotlib.pyplot as plt\n",
        "\n",
        "df = pd.read_csv('diabetes.csv')\n",
        "df.head()"
      ]
    },
    {
      "cell_type": "markdown",
      "source": [
        "Data Cleaning"
      ],
      "metadata": {
        "id": "P8-buSbnWNKr"
      }
    },
    {
      "cell_type": "code",
      "source": [
        "# Check for missing values\n",
        "missing_values = df.isna().sum()  # to count missing values in each column\n",
        "print(missing_values)\n",
        "\n",
        "# Remove missing values\n",
        "df.dropna(inplace=True)\n",
        "\n",
        "# Reset index\n",
        "df.reset_index(drop=True, inplace=True)  # this is done to make the numbering proper after removing the middle null values"
      ],
      "metadata": {
        "colab": {
          "base_uri": "https://localhost:8080/"
        },
        "id": "BQ7sGbWpVjKd",
        "outputId": "c08506c3-4696-4a7d-bbe2-a0f454aa77f7"
      },
      "execution_count": null,
      "outputs": [
        {
          "output_type": "stream",
          "name": "stdout",
          "text": [
            "Pregnancies                 0\n",
            "Glucose                     0\n",
            "BloodPressure               0\n",
            "Triceps                     0\n",
            "Insulin                     0\n",
            "BMI                         0\n",
            "DiabetesPedigreeFunction    0\n",
            "Age                         0\n",
            "Outcome                     0\n",
            "dtype: int64\n"
          ]
        }
      ]
    },
    {
      "cell_type": "code",
      "source": [
        "df.plot(kind='box', figsize=(15,5), subplots=True)\n",
        "# increase spacing between subplots\n",
        "plt.subplots_adjust(wspace=0.5)\n",
        "plt.show()"
      ],
      "metadata": {
        "colab": {
          "base_uri": "https://localhost:8080/",
          "height": 381
        },
        "id": "8pF2M-wUfGKs",
        "outputId": "ad9211bf-daa4-4139-ba3e-85cdb388048f"
      },
      "execution_count": null,
      "outputs": [
        {
          "output_type": "display_data",
          "data": {
            "text/plain": [
              "<Figure size 1500x500 with 9 Axes>"
            ],
            "image/png": "[encoded data removed]"
          },
          "metadata": {}
        }
      ]
    },
    {
      "cell_type": "markdown",
      "source": [
        "How many people below the age of 30 are diabetic in the dataset?"
      ],
      "metadata": {
        "id": "ChThFbWhNwFn"
      }
    },
    {
      "cell_type": "code",
      "source": [
        "result1 = df.query('Age < 30 & Outcome == 1')  # returns the rows having age less than 30\n",
        "result1.head()\n",
        "print(\"Number of people below the age of 30 diabetic in the dataset are = \",len(result1))"
      ],
      "metadata": {
        "colab": {
          "base_uri": "https://localhost:8080/"
        },
        "id": "p-fJ-wl-Ho6e",
        "outputId": "8ecb6c49-7eab-40c9-e80a-faf3d02e7ce5"
      },
      "execution_count": null,
      "outputs": [
        {
          "output_type": "stream",
          "name": "stdout",
          "text": [
            "Number of people below the age of 30 diabetic in the dataset are =  84\n"
          ]
        }
      ]
    },
    {
      "cell_type": "markdown",
      "source": [
        "How many women chose NOT to be pregnant while being a diabetic?"
      ],
      "metadata": {
        "id": "MYwp_SboPXWv"
      }
    },
    {
      "cell_type": "code",
      "source": [
        "result2 = df.query('Pregnancies == 0 & Outcome == 1')  # returns the rows with 0 pregnancies but are diabetic\n",
        "result2.head()\n",
        "print(\"Number of women who chose NOT to be pregnant while being diabetic = \", len(result2))"
      ],
      "metadata": {
        "colab": {
          "base_uri": "https://localhost:8080/"
        },
        "id": "XGjkc8o2PYHo",
        "outputId": "0760a2d6-4b1f-4040-bcf0-0609496c2a41"
      },
      "execution_count": null,
      "outputs": [
        {
          "output_type": "stream",
          "name": "stdout",
          "text": [
            "Number of women who chose NOT to be pregnant while being diabetic =  38\n"
          ]
        }
      ]
    },
    {
      "cell_type": "markdown",
      "source": [
        "What is the greatest number of pregnancies a woman had while being a diabetic?"
      ],
      "metadata": {
        "id": "h8qsI_6jR2Er"
      }
    },
    {
      "cell_type": "code",
      "source": [
        "result3 = df.sort_values(by='Pregnancies', ascending=False).query(\"Outcome == 1\")  # returns dataframe with diabetic women sorted in\n",
        "                                                                                   # descending orders by their pregnancy number\n",
        "result3.head()\n",
        "\n",
        "max_pregnancies = max(result3.Pregnancies)  # returns greatest number of pregnancies\n",
        "print(\"Greatest number of pregnancies a women had while being a diabetic = \", max_pregnancies)"
      ],
      "metadata": {
        "colab": {
          "base_uri": "https://localhost:8080/"
        },
        "id": "5g4oIdgQR3bG",
        "outputId": "b31b7697-65df-4bb8-9a7a-0302fad08857"
      },
      "execution_count": null,
      "outputs": [
        {
          "output_type": "stream",
          "name": "stdout",
          "text": [
            "Greatest number of pregnancies a women had while being a diabetic =  17\n"
          ]
        }
      ]
    },
    {
      "cell_type": "markdown",
      "source": [
        "How many people with a Diabetes pedigree function below 0.250 are diabetic?"
      ],
      "metadata": {
        "id": "ETMwRk-wpvLt"
      }
    },
    {
      "cell_type": "code",
      "source": [
        "result4 = df.query('DiabetesPedigreeFunction < 0.250 & Outcome == 1')\n",
        "result4.head()\n",
        "print(\"Number of people with Diabetes pedigree function below 0.250 who are diabetic = \", len(result4))"
      ],
      "metadata": {
        "colab": {
          "base_uri": "https://localhost:8080/"
        },
        "id": "oUi0BODNpxk1",
        "outputId": "6b2778ec-7342-4fc9-83a6-ec184c22f38c"
      },
      "execution_count": null,
      "outputs": [
        {
          "output_type": "stream",
          "name": "stdout",
          "text": [
            "Number of people with Diabetes pedigree function below 0.250 who are diabetic =  52\n"
          ]
        }
      ]
    },
    {
      "cell_type": "markdown",
      "source": [
        "How many people with Insulin levels lesser than 200 are diabetic?"
      ],
      "metadata": {
        "id": "Qn_sVXtfqysg"
      }
    },
    {
      "cell_type": "code",
      "source": [
        "result5 = df.query('Insulin < 200 & Outcome == 1')\n",
        "result5.head()\n",
        "print(\"Number of people with insulin levels lesser than 200 are diabetic = \", len(result5))"
      ],
      "metadata": {
        "colab": {
          "base_uri": "https://localhost:8080/"
        },
        "id": "6U1I18gqqzNF",
        "outputId": "4f3929e6-3062-4a1b-ca17-1ce39e00a1cf"
      },
      "execution_count": null,
      "outputs": [
        {
          "output_type": "stream",
          "name": "stdout",
          "text": [
            "Number of people with insulin levels lesser than 200 are diabetic =  221\n"
          ]
        }
      ]
    },
    {
      "cell_type": "markdown",
      "source": [
        "Overall, how many people in the dataset are diabetic and non-diabetic?\n",
        "\n"
      ],
      "metadata": {
        "id": "MnRZQIUyrqPc"
      }
    },
    {
      "cell_type": "code",
      "source": [
        "result6 = df.query('Outcome == 1')\n",
        "diabetic_count = len(result6)\n",
        "result6 = df.query('Outcome == 0')\n",
        "non_diabetic_count = len(result6)\n",
        "print(\"Number of Diabetic People = \", diabetic_count)\n",
        "print(\"Number of Non - Diabetic People = \", non_diabetic_count)"
      ],
      "metadata": {
        "colab": {
          "base_uri": "https://localhost:8080/"
        },
        "id": "txpQ-D8lrq27",
        "outputId": "61828843-da70-44d6-871e-abacb1659696"
      },
      "execution_count": null,
      "outputs": [
        {
          "output_type": "stream",
          "name": "stdout",
          "text": [
            "Number of Diabetic People =  268\n",
            "Number of Non - Diabetic People =  500\n"
          ]
        }
      ]
    },
    {
      "cell_type": "code",
      "source": [
        "# Visualization: Pie Chart\n",
        "labels = ['Diabetic', 'Non-Diabetic']\n",
        "sizes = [diabetic_count, non_diabetic_count]\n",
        "colors = ['yellow', 'lightgreen']\n",
        "\n",
        "# plt.figure(figsize=(8, 8))\n",
        "plt.pie(sizes, labels=labels, autopct=lambda p: f'{int(p * sum(sizes) / 100)}', colors=colors, startangle=90)\n",
        "plt.title('Overall Distribution of Diabetic and Non-Diabetic Individuals')\n",
        "plt.show()"
      ],
      "metadata": {
        "colab": {
          "base_uri": "https://localhost:8080/",
          "height": 428
        },
        "id": "OPskQI8NYakq",
        "outputId": "ccf67c33-3548-498f-d239-2b7c782f7fea"
      },
      "execution_count": null,
      "outputs": [
        {
          "output_type": "display_data",
          "data": {
            "text/plain": [
              "<Figure size 640x480 with 1 Axes>"
            ],
            "image/png": "[encoded data removed]"
          },
          "metadata": {}
        }
      ]
    },
    {
      "cell_type": "markdown",
      "source": [
        "What percentage of women who are less than 25 years old, have had at least one pregnancy?"
      ],
      "metadata": {
        "id": "1PEGnMqDwCMO"
      }
    },
    {
      "cell_type": "code",
      "source": [
        "result7 = df.query('Age < 25 & Pregnancies >= 1')\n",
        "percentage = (len(result7)/len(df))*100\n",
        "print(\"Percentage of women less than 25 years old with 1 or more pregnancies = \", round(percentage, 2), \"%\")"
      ],
      "metadata": {
        "id": "KR1jIE3kwC3V",
        "colab": {
          "base_uri": "https://localhost:8080/"
        },
        "outputId": "acc90bc4-82c7-4b0f-d1be-19559bc68710"
      },
      "execution_count": null,
      "outputs": [
        {
          "output_type": "stream",
          "name": "stdout",
          "text": [
            "Percentage of women less than 25 years old with 1 or more pregnancies =  21.35 %\n"
          ]
        }
      ]
    },
    {
      "cell_type": "markdown",
      "source": [
        "How many women with a skin thickness of above 29 are diabetic?"
      ],
      "metadata": {
        "id": "Q5d5hsFCfoWs"
      }
    },
    {
      "cell_type": "code",
      "source": [
        "result8 = df.query('Triceps > 29 & Outcome == 1')\n",
        "result8.head()\n",
        "print(\"Number of women with a skin thickness or above 29mm who are diabetic = \", len(result8))"
      ],
      "metadata": {
        "colab": {
          "base_uri": "https://localhost:8080/"
        },
        "id": "mrR398D5fpO9",
        "outputId": "7b06e822-ddec-4d50-8ddb-b914de5963ea"
      },
      "execution_count": null,
      "outputs": [
        {
          "output_type": "stream",
          "name": "stdout",
          "text": [
            "Number of women with a skin thickness or above 29mm who are diabetic =  117\n"
          ]
        }
      ]
    },
    {
      "cell_type": "markdown",
      "source": [
        "How many people have a glucose level above 190?"
      ],
      "metadata": {
        "id": "Td_BoazigLOn"
      }
    },
    {
      "cell_type": "code",
      "source": [
        "result9 = df.query('Glucose > 190')\n",
        "print(\"Number of people with glucose level above 190 = \", len(result9))"
      ],
      "metadata": {
        "colab": {
          "base_uri": "https://localhost:8080/"
        },
        "id": "VUR4gBlagLx5",
        "outputId": "e945382a-fb89-4c04-f547-6b6a80b7c002"
      },
      "execution_count": null,
      "outputs": [
        {
          "output_type": "stream",
          "name": "stdout",
          "text": [
            "Number of people with glucose level above 190 =  17\n"
          ]
        }
      ]
    },
    {
      "cell_type": "markdown",
      "source": [
        "How many diabetics have a BMI of over 30?"
      ],
      "metadata": {
        "id": "FyTGucPzgcs3"
      }
    },
    {
      "cell_type": "code",
      "source": [
        "result10 = df.query('BMI > 30 & Outcome == 1')\n",
        "print(\"Number of diabetics having BMI over 30 = \", len(result10))"
      ],
      "metadata": {
        "colab": {
          "base_uri": "https://localhost:8080/"
        },
        "id": "0HsqOMIagefw",
        "outputId": "74cbbe3b-7e90-414c-9b88-e8ac2db01da5"
      },
      "execution_count": null,
      "outputs": [
        {
          "output_type": "stream",
          "name": "stdout",
          "text": [
            "Number of diabetics having BMI over 30 =  215\n"
          ]
        }
      ]
    },
    {
      "cell_type": "markdown",
      "source": [
        "How many diabetics have a blood pressure of less than 80?"
      ],
      "metadata": {
        "id": "5MChapQDg2YO"
      }
    },
    {
      "cell_type": "code",
      "source": [
        "result11 = df.query('BloodPressure < 80 & Outcome == 1')\n",
        "print(\"Number of diabetics with blood pressure < 80 = \", len(result11))"
      ],
      "metadata": {
        "colab": {
          "base_uri": "https://localhost:8080/"
        },
        "id": "5_kJYNK7g3D5",
        "outputId": "c2fd3155-5c1c-4963-c1f4-f2d77dbce3e3"
      },
      "execution_count": null,
      "outputs": [
        {
          "output_type": "stream",
          "name": "stdout",
          "text": [
            "Number of diabetics with blood pressure < 80 =  178\n"
          ]
        }
      ]
    },
    {
      "cell_type": "code",
      "source": [
        "len(df)"
      ],
      "metadata": {
        "colab": {
          "base_uri": "https://localhost:8080/"
        },
        "id": "-buCU8s28vnP",
        "outputId": "c9545019-f872-49b3-b8b9-9b5e67ae82f0"
      },
      "execution_count": null,
      "outputs": [
        {
          "output_type": "execute_result",
          "data": {
            "text/plain": [
              "768"
            ]
          },
          "metadata": {},
          "execution_count": 17
        }
      ]
    }
  ]
}